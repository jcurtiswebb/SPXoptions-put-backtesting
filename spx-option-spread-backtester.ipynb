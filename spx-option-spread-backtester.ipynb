{
 "cells": [
  {
   "cell_type": "code",
   "execution_count": 1,
   "id": "5b494372",
   "metadata": {
    "_cell_guid": "b1076dfc-b9ad-4769-8c92-a6c4dae69d19",
    "_uuid": "8f2839f25d086af736a60e9eeb907d3b93b6e0e5",
    "execution": {
     "iopub.execute_input": "2022-08-18T12:15:23.699129Z",
     "iopub.status.busy": "2022-08-18T12:15:23.698319Z",
     "iopub.status.idle": "2022-08-18T12:15:36.226951Z",
     "shell.execute_reply": "2022-08-18T12:15:36.225262Z"
    },
    "papermill": {
     "duration": 12.536209,
     "end_time": "2022-08-18T12:15:36.229910",
     "exception": false,
     "start_time": "2022-08-18T12:15:23.693701",
     "status": "completed"
    },
    "tags": []
   },
   "outputs": [],
   "source": [
    "import glob\n",
    "import pandas as pd\n",
    "import numpy as np\n",
    "from datetime import datetime, timedelta\n",
    "import matplotlib.pyplot as plt\n",
    "import os\n",
    "import os.path\n",
    "\n",
    "df = pd.read_csv(f\"../input/cboedailytrimspxcboe202202020939/cboe_spx_2022_0dte_all.csv\", index_col=None, header=0)\n",
    "df['expiration']=pd.to_datetime(df['expiration'])\n",
    "df['quote_date']=pd.to_datetime(df['quote_date'])\n",
    "df['delta'] = df['delta'].abs()\n",
    "\n",
    "#########################\n",
    "# Settings for backtest #\n",
    "#########################\n",
    "delta_sp = 0.25\n",
    "delta_lp = 0.20\n",
    "delta_sc = 0.25\n",
    "delta_lc = 0.20\n",
    "\n",
    "same_day = True\n",
    "purchase_time = '09:45:00'\n",
    "\n",
    "if same_day:\n",
    "    dte_f = -1\n",
    "else:\n",
    "    dte_f = 0"
   ]
  },
  {
   "cell_type": "code",
   "execution_count": 2,
   "id": "ef2a1e9d",
   "metadata": {
    "execution": {
     "iopub.execute_input": "2022-08-18T12:15:36.237415Z",
     "iopub.status.busy": "2022-08-18T12:15:36.236524Z",
     "iopub.status.idle": "2022-08-18T12:15:36.245934Z",
     "shell.execute_reply": "2022-08-18T12:15:36.244592Z"
    },
    "papermill": {
     "duration": 0.015121,
     "end_time": "2022-08-18T12:15:36.247960",
     "exception": false,
     "start_time": "2022-08-18T12:15:36.232839",
     "status": "completed"
    },
    "tags": []
   },
   "outputs": [],
   "source": [
    "def get_contract_strike(curr_date, contract_date, i_df):\n",
    "    df1 = i_df[(i_df['quote_date']==curr_date) & (i_df['expiration']==contract_date)].min()\n",
    "    price = (df1['ask']+df1['bid'])/0.02 # 0.02 is dividing by two and multiplying by 100\n",
    "    if np.isnan(price):\n",
    "       return pd.Series([0,0,0])\n",
    "    return pd.Series([df1['strike'],df1['delta'],price])\n",
    "\n",
    "\n",
    "def get_amount_lost(contract_date, strike_sp, strike_lp, strike_sc, strike_lc):\n",
    "    df1 = df[(df['quote_date']==contract_date) & (df['expiration']==contract_date) & (df['quote_time']=='16:00:00')].min()\n",
    "    underlying = df1['price']\n",
    "    total_lost = 0.0\n",
    "    if underlying > strike_sc:\n",
    "        total_lost = total_lost + (underlying - strike_sc)*100\n",
    "        if underlying > strike_lc:\n",
    "            total_lost = total_lost - (underlying - strike_lc)*100\n",
    "    if underlying < strike_sp:\n",
    "        total_lost = total_lost + (strike_sp - underlying)*100\n",
    "        if underlying < strike_lp:\n",
    "            total_lost = total_lost - (strike_lp - underlying)*100\n",
    "    return total_lost"
   ]
  },
  {
   "cell_type": "code",
   "execution_count": 3,
   "id": "3e5f204b",
   "metadata": {
    "execution": {
     "iopub.execute_input": "2022-08-18T12:15:36.254572Z",
     "iopub.status.busy": "2022-08-18T12:15:36.254164Z",
     "iopub.status.idle": "2022-08-18T12:15:36.789779Z",
     "shell.execute_reply": "2022-08-18T12:15:36.788708Z"
    },
    "papermill": {
     "duration": 0.541506,
     "end_time": "2022-08-18T12:15:36.792173",
     "exception": false,
     "start_time": "2022-08-18T12:15:36.250667",
     "status": "completed"
    },
    "tags": []
   },
   "outputs": [],
   "source": [
    "df_times = pd.DataFrame(df['quote_time'].unique())\n",
    "\n",
    "df_trades = pd.DataFrame(df['expiration'].unique())\n",
    "df_trades.rename({0: \"expiration\"}, axis='columns', inplace=True)\n",
    "df_trades['trade_date'] = df_trades['expiration'].shift(1 + dte_f)\n",
    "df_trades = df_trades[df_trades['trade_date'].isnull()==False]\n",
    "df_trades['collected_sc'] = 0.0\n",
    "df_trades['collected_lc'] = 0.0\n",
    "df_trades['collected_sp'] = 0.0\n",
    "df_trades['collected_lp'] = 0.0\n",
    "df_trades['collected'] = 0.0\n",
    "df_trades['lost'] = 0.0\n",
    "df_trades['strike_sp'] = 0\n",
    "df_trades['strike_lp'] = 0\n",
    "df_trades['strike_sc'] = 0\n",
    "df_trades['strike_lc'] = 0\n",
    "df_trades['delta_sp'] = 0.0\n",
    "df_trades['delta_lp'] = 0.0\n",
    "df_trades['delta_sc'] = 0.0\n",
    "df_trades['delta_lc'] = 0.0\n",
    "df_trades['net'] = 0.0"
   ]
  },
  {
   "cell_type": "code",
   "execution_count": 4,
   "id": "8e5acfbe",
   "metadata": {
    "execution": {
     "iopub.execute_input": "2022-08-18T12:15:36.799149Z",
     "iopub.status.busy": "2022-08-18T12:15:36.798124Z",
     "iopub.status.idle": "2022-08-18T12:15:40.681908Z",
     "shell.execute_reply": "2022-08-18T12:15:40.680859Z"
    },
    "papermill": {
     "duration": 3.889841,
     "end_time": "2022-08-18T12:15:40.684564",
     "exception": false,
     "start_time": "2022-08-18T12:15:36.794723",
     "status": "completed"
    },
    "tags": []
   },
   "outputs": [],
   "source": [
    "# Create new filtered dataframe with only calls above target delta\n",
    "df_sc = df[(df['type']==\"C\") & (df['delta']>= delta_sc) & (df['quote_time'] == purchase_time) & (df['dte'] > dte_f)]\n",
    "# We don't know for certain how many expirations we have for a given quote date, so lets group on each and find min delta\n",
    "df_sc = df_sc.loc[df_sc.groupby(['quote_date','dte'])[['delta']].idxmin()['delta']]\n",
    "# Only keep the min expiration date for each quote\n",
    "df_sc = df_sc.loc[df_sc.groupby('quote_date')[['dte']].idxmin()['dte']]\n",
    "\n",
    "df_lc = df[(df['type']==\"C\") & (df['delta']>= delta_lc) & (df['quote_time'] == purchase_time) & (df['dte'] > dte_f)]\n",
    "# We don't know for certain how many expirations we have for a given quote date, so lets group on each and find min delta\n",
    "df_lc = df_lc.loc[df_lc.groupby(['quote_date','dte'])[['delta']].idxmin()['delta']]\n",
    "# Only keep the min expiration date for each quote\n",
    "df_lc = df_lc.loc[df_lc.groupby('quote_date')[['dte']].idxmin()['dte']]\n",
    "\n",
    "# Create new filtered dataframe with only puts above target delta\n",
    "df_sp = df[(df['type']==\"P\") & (df['delta']>= delta_sp) & (df['quote_time'] == purchase_time) & (df['dte'] > dte_f)]\n",
    "# We don't know for certain how many expirations we have for a given quote date, so only focus on the next one\n",
    "df_sp = df_sp.loc[df_sp.groupby(['quote_date','dte'])[['delta']].idxmin()['delta']]\n",
    "# Now that we're certain we have the minimum expiration date, get the minimum delta\n",
    "df_sp = df_sp.loc[df_sp.groupby('quote_date')[['dte']].idxmin()['dte']]\n",
    "\n",
    "# Create new filtered dataframe with only puts above target delta\n",
    "df_lp = df[(df['type']==\"P\") & (df['delta']>= delta_lp) & (df['quote_time'] == purchase_time) & (df['dte'] > dte_f)]\n",
    "# We don't know for certain how many expirations we have for a given quote date, so only focus on the next one\n",
    "df_lp = df_lp.loc[df_lp.groupby(['quote_date','dte'])[['delta']].idxmin()['delta']]\n",
    "# Now that we're certain we have the minimum expiration date, get the minimum delta\n",
    "df_lp = df_lp.loc[df_lp.groupby('quote_date')[['dte']].idxmin()['dte']]\n"
   ]
  },
  {
   "cell_type": "code",
   "execution_count": 5,
   "id": "dd0f4150",
   "metadata": {
    "execution": {
     "iopub.execute_input": "2022-08-18T12:15:40.691059Z",
     "iopub.status.busy": "2022-08-18T12:15:40.690689Z",
     "iopub.status.idle": "2022-08-18T12:16:32.170380Z",
     "shell.execute_reply": "2022-08-18T12:16:32.169386Z"
    },
    "papermill": {
     "duration": 51.48577,
     "end_time": "2022-08-18T12:16:32.172854",
     "exception": false,
     "start_time": "2022-08-18T12:15:40.687084",
     "status": "completed"
    },
    "tags": []
   },
   "outputs": [],
   "source": [
    "#Need to figure out how to extract strike, delta, and the average between bid/ask from one \"apply\" operation\n",
    "df_trades['strike_sc'],df_trades['delta_sc'],df_trades['collected_sc'] = df_trades.apply(lambda row : get_contract_strike(row['trade_date'], row['expiration'], df_sc), axis = 1).T.values\n",
    "df_trades['strike_lc'],df_trades['delta_lc'],df_trades['collected_lc'] = df_trades.apply(lambda row : get_contract_strike(row['trade_date'], row['expiration'], df_lc), axis = 1).T.values\n",
    "df_trades['strike_sp'],df_trades['delta_sp'],df_trades['collected_sp'] = df_trades.apply(lambda row : get_contract_strike(row['trade_date'], row['expiration'], df_sp), axis = 1).T.values\n",
    "df_trades['strike_lp'],df_trades['delta_lp'],df_trades['collected_lp'] = df_trades.apply(lambda row : get_contract_strike(row['trade_date'], row['expiration'], df_lp), axis = 1).T.values\n",
    "df_trades['collected'] = df_trades['collected_sc'] + -1*df_trades['collected_lc'] + df_trades['collected_sp'] + -1*df_trades['collected_lp'] \n",
    "df_trades['lost'] = df_trades.apply(lambda row : get_amount_lost(row['expiration'], row['strike_sp'], row['strike_lp'], row['strike_sc'], row['strike_lc']), axis=1)\n",
    "df_trades['net'] = df_trades['collected'] - df_trades['lost']\n",
    "                                                                                         \n",
    "# if you want to scale the chart, you should do it here\n",
    "factor = 1.0\n",
    "df_trade_plot = df_trades.copy()\n",
    "df_trade_plot['net'] = df_trade_plot['net']*factor\n",
    "df_trade_plot.set_index('expiration', inplace=True)\n",
    "df_trade_plot = df_trade_plot['net'].cumsum()"
   ]
  },
  {
   "cell_type": "code",
   "execution_count": 6,
   "id": "0d21e23f",
   "metadata": {
    "execution": {
     "iopub.execute_input": "2022-08-18T12:16:32.181097Z",
     "iopub.status.busy": "2022-08-18T12:16:32.179923Z",
     "iopub.status.idle": "2022-08-18T12:16:32.209115Z",
     "shell.execute_reply": "2022-08-18T12:16:32.208148Z"
    },
    "papermill": {
     "duration": 0.036872,
     "end_time": "2022-08-18T12:16:32.212291",
     "exception": false,
     "start_time": "2022-08-18T12:16:32.175419",
     "status": "completed"
    },
    "tags": []
   },
   "outputs": [
    {
     "data": {
      "text/html": [
       "<div>\n",
       "<style scoped>\n",
       "    .dataframe tbody tr th:only-of-type {\n",
       "        vertical-align: middle;\n",
       "    }\n",
       "\n",
       "    .dataframe tbody tr th {\n",
       "        vertical-align: top;\n",
       "    }\n",
       "\n",
       "    .dataframe thead th {\n",
       "        text-align: right;\n",
       "    }\n",
       "</style>\n",
       "<table border=\"1\" class=\"dataframe\">\n",
       "  <thead>\n",
       "    <tr style=\"text-align: right;\">\n",
       "      <th></th>\n",
       "      <th>expiration</th>\n",
       "      <th>trade_date</th>\n",
       "      <th>collected_sc</th>\n",
       "      <th>collected_lc</th>\n",
       "      <th>collected_sp</th>\n",
       "      <th>collected_lp</th>\n",
       "      <th>collected</th>\n",
       "      <th>lost</th>\n",
       "      <th>strike_sp</th>\n",
       "      <th>strike_lp</th>\n",
       "      <th>strike_sc</th>\n",
       "      <th>strike_lc</th>\n",
       "      <th>delta_sp</th>\n",
       "      <th>delta_lp</th>\n",
       "      <th>delta_sc</th>\n",
       "      <th>delta_lc</th>\n",
       "      <th>net</th>\n",
       "    </tr>\n",
       "  </thead>\n",
       "  <tbody>\n",
       "    <tr>\n",
       "      <th>0</th>\n",
       "      <td>2022-01-03</td>\n",
       "      <td>2022-01-03</td>\n",
       "      <td>450.0</td>\n",
       "      <td>305.0</td>\n",
       "      <td>385.0</td>\n",
       "      <td>295.0</td>\n",
       "      <td>235.0</td>\n",
       "      <td>0.0</td>\n",
       "      <td>4775.0</td>\n",
       "      <td>4770.0</td>\n",
       "      <td>4800.0</td>\n",
       "      <td>4805.0</td>\n",
       "      <td>0.2642</td>\n",
       "      <td>0.2094</td>\n",
       "      <td>0.3220</td>\n",
       "      <td>0.2423</td>\n",
       "      <td>235.0</td>\n",
       "    </tr>\n",
       "    <tr>\n",
       "      <th>1</th>\n",
       "      <td>2022-01-05</td>\n",
       "      <td>2022-01-05</td>\n",
       "      <td>440.0</td>\n",
       "      <td>302.5</td>\n",
       "      <td>450.0</td>\n",
       "      <td>350.0</td>\n",
       "      <td>237.5</td>\n",
       "      <td>500.0</td>\n",
       "      <td>4770.0</td>\n",
       "      <td>4765.0</td>\n",
       "      <td>4800.0</td>\n",
       "      <td>4805.0</td>\n",
       "      <td>0.2709</td>\n",
       "      <td>0.2192</td>\n",
       "      <td>0.2893</td>\n",
       "      <td>0.2203</td>\n",
       "      <td>-262.5</td>\n",
       "    </tr>\n",
       "    <tr>\n",
       "      <th>2</th>\n",
       "      <td>2022-01-07</td>\n",
       "      <td>2022-01-07</td>\n",
       "      <td>470.0</td>\n",
       "      <td>345.0</td>\n",
       "      <td>520.0</td>\n",
       "      <td>420.0</td>\n",
       "      <td>225.0</td>\n",
       "      <td>349.0</td>\n",
       "      <td>4680.0</td>\n",
       "      <td>4675.0</td>\n",
       "      <td>4720.0</td>\n",
       "      <td>4725.0</td>\n",
       "      <td>0.2551</td>\n",
       "      <td>0.2137</td>\n",
       "      <td>0.2684</td>\n",
       "      <td>0.2130</td>\n",
       "      <td>-124.0</td>\n",
       "    </tr>\n",
       "    <tr>\n",
       "      <th>3</th>\n",
       "      <td>2022-01-10</td>\n",
       "      <td>2022-01-10</td>\n",
       "      <td>560.0</td>\n",
       "      <td>430.0</td>\n",
       "      <td>710.0</td>\n",
       "      <td>500.0</td>\n",
       "      <td>340.0</td>\n",
       "      <td>500.0</td>\n",
       "      <td>4600.0</td>\n",
       "      <td>4590.0</td>\n",
       "      <td>4650.0</td>\n",
       "      <td>4655.0</td>\n",
       "      <td>0.2732</td>\n",
       "      <td>0.2053</td>\n",
       "      <td>0.2532</td>\n",
       "      <td>0.2089</td>\n",
       "      <td>-160.0</td>\n",
       "    </tr>\n",
       "    <tr>\n",
       "      <th>4</th>\n",
       "      <td>2022-01-12</td>\n",
       "      <td>2022-01-12</td>\n",
       "      <td>555.0</td>\n",
       "      <td>425.0</td>\n",
       "      <td>575.0</td>\n",
       "      <td>490.0</td>\n",
       "      <td>215.0</td>\n",
       "      <td>0.0</td>\n",
       "      <td>4705.0</td>\n",
       "      <td>4700.0</td>\n",
       "      <td>4750.0</td>\n",
       "      <td>4755.0</td>\n",
       "      <td>0.2507</td>\n",
       "      <td>0.2171</td>\n",
       "      <td>0.2767</td>\n",
       "      <td>0.2269</td>\n",
       "      <td>215.0</td>\n",
       "    </tr>\n",
       "  </tbody>\n",
       "</table>\n",
       "</div>"
      ],
      "text/plain": [
       "  expiration trade_date  collected_sc  collected_lc  collected_sp  \\\n",
       "0 2022-01-03 2022-01-03         450.0         305.0         385.0   \n",
       "1 2022-01-05 2022-01-05         440.0         302.5         450.0   \n",
       "2 2022-01-07 2022-01-07         470.0         345.0         520.0   \n",
       "3 2022-01-10 2022-01-10         560.0         430.0         710.0   \n",
       "4 2022-01-12 2022-01-12         555.0         425.0         575.0   \n",
       "\n",
       "   collected_lp  collected   lost  strike_sp  strike_lp  strike_sc  strike_lc  \\\n",
       "0         295.0      235.0    0.0     4775.0     4770.0     4800.0     4805.0   \n",
       "1         350.0      237.5  500.0     4770.0     4765.0     4800.0     4805.0   \n",
       "2         420.0      225.0  349.0     4680.0     4675.0     4720.0     4725.0   \n",
       "3         500.0      340.0  500.0     4600.0     4590.0     4650.0     4655.0   \n",
       "4         490.0      215.0    0.0     4705.0     4700.0     4750.0     4755.0   \n",
       "\n",
       "   delta_sp  delta_lp  delta_sc  delta_lc    net  \n",
       "0    0.2642    0.2094    0.3220    0.2423  235.0  \n",
       "1    0.2709    0.2192    0.2893    0.2203 -262.5  \n",
       "2    0.2551    0.2137    0.2684    0.2130 -124.0  \n",
       "3    0.2732    0.2053    0.2532    0.2089 -160.0  \n",
       "4    0.2507    0.2171    0.2767    0.2269  215.0  "
      ]
     },
     "execution_count": 6,
     "metadata": {},
     "output_type": "execute_result"
    }
   ],
   "source": [
    "df_trades.head()"
   ]
  },
  {
   "cell_type": "code",
   "execution_count": 7,
   "id": "1aafc2f4",
   "metadata": {
    "execution": {
     "iopub.execute_input": "2022-08-18T12:16:32.220114Z",
     "iopub.status.busy": "2022-08-18T12:16:32.219234Z",
     "iopub.status.idle": "2022-08-18T12:16:32.525562Z",
     "shell.execute_reply": "2022-08-18T12:16:32.524311Z"
    },
    "papermill": {
     "duration": 0.312702,
     "end_time": "2022-08-18T12:16:32.528032",
     "exception": false,
     "start_time": "2022-08-18T12:16:32.215330",
     "status": "completed"
    },
    "tags": []
   },
   "outputs": [
    {
     "data": {
      "image/png": "[encoded data removed]",
      "text/plain": [
       "<Figure size 432x288 with 1 Axes>"
      ]
     },
     "metadata": {
      "needs_background": "light"
     },
     "output_type": "display_data"
    }
   ],
   "source": [
    "fig = plt.figure()\n",
    "ax = fig.add_subplot(1, 1, 1)\n",
    "df_trade_plot.plot(ax=ax)\n",
    "plt.title(f\"0DTE SPX {delta_sp} SP {delta_lp} LP {delta_sc} SC {delta_lc} LC Iron Condors\")\n",
    "plt.grid()\n",
    "plt.savefig(f\"0DTE_SPX_{delta_sp}SP_{delta_lp}LP_{delta_sc}SC_{delta_lc}LC_IC.png\")"
   ]
  }
 ],
 "metadata": {
  "kernelspec": {
   "display_name": "Python 3",
   "language": "python",
   "name": "python3"
  },
  "language_info": {
   "codemirror_mode": {
    "name": "ipython",
    "version": 3
   },
   "file_extension": ".py",
   "mimetype": "text/x-python",
   "name": "python",
   "nbconvert_exporter": "python",
   "pygments_lexer": "ipython3",
   "version": "3.7.12"
  },
  "papermill": {
   "default_parameters": {},
   "duration": 77.865476,
   "end_time": "2022-08-18T12:16:33.254653",
   "environment_variables": {},
   "exception": null,
   "input_path": "__notebook__.ipynb",
   "output_path": "__notebook__.ipynb",
   "parameters": {},
   "start_time": "2022-08-18T12:15:15.389177",
   "version": "2.3.4"
  }
 },
 "nbformat": 4,
 "nbformat_minor": 5
}
