{
 "cells": [
  {
   "cell_type": "code",
   "execution_count": 1,
   "id": "b05ca560",
   "metadata": {
    "_cell_guid": "b1076dfc-b9ad-4769-8c92-a6c4dae69d19",
    "_uuid": "8f2839f25d086af736a60e9eeb907d3b93b6e0e5",
    "execution": {
     "iopub.execute_input": "2022-12-26T23:35:03.085798Z",
     "iopub.status.busy": "2022-12-26T23:35:03.084845Z",
     "iopub.status.idle": "2022-12-26T23:36:29.376128Z",
     "shell.execute_reply": "2022-12-26T23:36:29.374829Z"
    },
    "papermill": {
     "duration": 86.300459,
     "end_time": "2022-12-26T23:36:29.379241",
     "exception": false,
     "start_time": "2022-12-26T23:35:03.078782",
     "status": "completed"
    },
    "tags": []
   },
   "outputs": [],
   "source": [
    "import glob\n",
    "import pandas as pd\n",
    "import numpy as np\n",
    "from datetime import datetime, timedelta, time\n",
    "import matplotlib.pyplot as plt\n",
    "import os\n",
    "import os.path\n",
    "from time import perf_counter\n",
    "import spx_strategies as ss\n",
    "import optuna\n",
    "\n",
    "\n",
    "#########################\n",
    "# Settings for backtest #\n",
    "#########################\n",
    "# Delta values must be scaled from 0.0 to 1.0 (0 delta to 100 delta)\n",
    "delta_sp = 0.214\n",
    "delta_lp = 0.001\n",
    "delta_sc = 0.201\n",
    "delta_lc = 0.001\n",
    "delta_params = {'delta_sp':delta_sp, 'delta_lp':delta_lp, 'delta_sc':delta_sc,'delta_lc':delta_lc}\n",
    "\n",
    "same_day = True\n",
    "purchase_time = '09:45:00'\n",
    "\n",
    "# Max loss is % : max_loss * amount_collected is exit criteria\n",
    "max_loss = 100\n",
    "\n",
    "# In dollars\n",
    "commission = 1.5\n",
    "\n",
    "if same_day:\n",
    "    dte_f = -1\n",
    "else:\n",
    "    dte_f = 0\n",
    "\n",
    "initial_portfolio_value = 10000\n",
    "files = [\n",
    "    f\"/kaggle/input/cboedailytrimspxcboe202202020939/cboe_spx_2020_0dte_all.csv\", \n",
    "    f\"/kaggle/input/cboedailytrimspxcboe202202020939/cboe_spx_2021_0dte_all.csv\", \n",
    "    f\"/kaggle/input/cboedailytrimspxcboe202202020939/cboe_spx_2022_0dte_all.csv\"\n",
    "]\n",
    "li = []\n",
    "for f in files:   \n",
    "    df = pd.read_csv(f, index_col=None, header=0, dtype={'type':'category','quote_time':'category'})\n",
    "    li.append(df)\n",
    "    \n",
    "df = pd.concat(li, axis=0, ignore_index=True)\n",
    "df['expiration']=pd.to_datetime(df['expiration'],infer_datetime_format=True)\n",
    "df['quote_date']=pd.to_datetime(df['quote_date'],infer_datetime_format=True)\n",
    "df['delta'] = df['delta'].abs()\n"
   ]
  },
  {
   "cell_type": "code",
   "execution_count": 2,
   "id": "69403a06",
   "metadata": {
    "execution": {
     "iopub.execute_input": "2022-12-26T23:36:29.387401Z",
     "iopub.status.busy": "2022-12-26T23:36:29.386991Z",
     "iopub.status.idle": "2022-12-26T23:36:29.609300Z",
     "shell.execute_reply": "2022-12-26T23:36:29.608076Z"
    },
    "papermill": {
     "duration": 0.229255,
     "end_time": "2022-12-26T23:36:29.612089",
     "exception": false,
     "start_time": "2022-12-26T23:36:29.382834",
     "status": "completed"
    },
    "tags": []
   },
   "outputs": [],
   "source": [
    "df_ty_i = pd.read_csv(f\"/kaggle/input/treasury-yield-13w-2012-2022/13_week_treasury_yield.csv\", index_col=None, header=0)\n",
    "df_ty_i['Date'] = pd.to_datetime(df_ty_i['Date'])"
   ]
  },
  {
   "cell_type": "code",
   "execution_count": 3,
   "id": "3a40dcbb",
   "metadata": {
    "execution": {
     "iopub.execute_input": "2022-12-26T23:36:29.620313Z",
     "iopub.status.busy": "2022-12-26T23:36:29.619874Z",
     "iopub.status.idle": "2022-12-26T23:36:29.629722Z",
     "shell.execute_reply": "2022-12-26T23:36:29.628491Z"
    },
    "papermill": {
     "duration": 0.016944,
     "end_time": "2022-12-26T23:36:29.632248",
     "exception": false,
     "start_time": "2022-12-26T23:36:29.615304",
     "status": "completed"
    },
    "tags": []
   },
   "outputs": [],
   "source": [
    "def convert_delta_to_dictionary(delta_sp, delta_p_offset, delta_sc, delta_c_offset):\n",
    "    return {'delta_sp':delta_sp, 'delta_p_offset':delta_p_offset, 'delta_sc':delta_sc,'delta_c_offset':delta_c_offset}\n",
    "\n",
    "\n",
    "\n",
    "\n",
    "def net2pct(x):\n",
    "    return (x / initial_portfolio_value)*100\n",
    "\n",
    "\n",
    "def pct2net(x):\n",
    "    return initial_portfolio_value * x/100\n",
    "\n",
    "def populate_variable_delta_entry(strategy):\n",
    "    if strategy is None:\n",
    "        df_var_delta = pd.DataFrame(df['expiration'].unique())\n",
    "        df_var_delta.rename({0: \"expiration\"}, axis='columns', inplace=True)\n",
    "        df_var_delta.set_index('expiration',inplace=True)\n",
    "        df_var_delta['delta_sp_target'] = delta_sp\n",
    "        df_var_delta['delta_lp_target'] = delta_lp\n",
    "        df_var_delta['delta_sc_target'] = delta_sc\n",
    "        df_var_delta['delta_lc_target'] = delta_lc\n",
    "        df_var_delta['lp_offset'] = 20.0\n",
    "        df_var_delta['lc_offset'] = 20.0\n",
    "        df_var_delta.fillna(-1,inplace=True)\n",
    "    else:\n",
    "        print(f\"Strategy type : {type(strategy)}\")\n",
    "        df_var_delta = strategy.get_deltas()\n",
    "    return df_var_delta\n"
   ]
  },
  {
   "cell_type": "code",
   "execution_count": 4,
   "id": "c5211a56",
   "metadata": {
    "execution": {
     "iopub.execute_input": "2022-12-26T23:36:29.640349Z",
     "iopub.status.busy": "2022-12-26T23:36:29.639920Z",
     "iopub.status.idle": "2022-12-26T23:36:29.670751Z",
     "shell.execute_reply": "2022-12-26T23:36:29.669586Z"
    },
    "papermill": {
     "duration": 0.037917,
     "end_time": "2022-12-26T23:36:29.673285",
     "exception": false,
     "start_time": "2022-12-26T23:36:29.635368",
     "status": "completed"
    },
    "tags": []
   },
   "outputs": [],
   "source": [
    "def run_backtest(strat, df):\n",
    "    df_times = pd.DataFrame(df['quote_time'].unique())\n",
    "\n",
    "    df_trades = pd.DataFrame(df['expiration'].unique())\n",
    "    df_trades.rename({0: \"expiration\"}, axis='columns', inplace=True)\n",
    "    #previously trade_date was set to expiration + a DTE shift. Right now the backtester is only compatible with 0 DTE\n",
    "    df_trades['trade_date'] = df_trades['expiration']\n",
    "    \n",
    "    df_trades = df_trades.assign(**{'collected_sc': 0.0, 'collected_lc': 0.0, 'collected_sp' : 0.0, 'collected_lp' : 0.0, 'collected' : 0.0})\n",
    "    df_trades = df_trades.assign(**{'lost': 0.0, 'lost_p_s': 0.0, 'lost_c_s' : 0.0})\n",
    "    df_trades = df_trades.assign(**{'strike_sp': None, 'strike_lp': None, 'strike_sc' : None, 'strike_lc' : None})\n",
    "    df_trades = df_trades.assign(**{'delta_sp': 0.0, 'delta_lp': 0.0, 'delta_sc' : 0.0, 'delta_lc' : 0.0})\n",
    "    df_trades = df_trades.assign(**{'net': 0.0, 'commission': 0.0, 'portfolio_value' : 0.0, 'daily_return' : 0.0, 'trade_count' : 0})\n",
    "\n",
    "    start_time = perf_counter()\n",
    "    df_trades = strat.populate_trades(df, df_trades)\n",
    "    df_trades['commission'] = df_trades['trade_count'] * commission\n",
    "    df_trades.drop(columns=['delta_sp_target','delta_lp_target','delta_sc_target','delta_lc_target','lp_offset','lc_offset'], inplace=True)\n",
    "    print(f\"Elapsed time to find initial trades: {perf_counter() - start_time}\")\n",
    "\n",
    "    start_time_timer = perf_counter()\n",
    "    all_strikes = df_trades['strike_sp'].tolist() + df_trades['strike_lp'].tolist() + df_trades['strike_sc'].tolist() + df_trades['strike_lc'].tolist()\n",
    "    #remove duplicate strikes\n",
    "    all_strikes = [*set(all_strikes)]\n",
    "    filtered_df = df[df['strike'].isin(all_strikes)]\n",
    "\n",
    "    for index, trow in df_times.iterrows():\n",
    "        min_i = int(trow[0][3:5])\n",
    "        curr_time = time(hour=int(trow[0][0:2]),minute=int(trow[0][3:5]),second=int(trow[0][6:]))\n",
    "        start_time = time(hour=9, minute=45)\n",
    "        end_time = time(hour=16)\n",
    "        if (end_time < curr_time or curr_time <= start_time):\n",
    "            continue\n",
    "        str_quote_time = str(trow[0])\n",
    "        df_qt = filtered_df[(filtered_df['quote_time']==str_quote_time)]\n",
    "\n",
    "        # TODO: make lost a combination of 'lost_put_spread' and 'lost_call_spread'\n",
    "#         df_trades['trade_count'],df_trades['lost_c_s'], df_trades['lost_p_s'] = df_trades.apply(\n",
    "#             lambda row : get_amount_lost_minute(row['expiration'], row['strike_sp'], row['strike_lp'], row['strike_sc'], \n",
    "#                                                 row['strike_lc'], row['collected_sc'] + row['collected_lc'], \n",
    "#                                                 row['collected_sp'] + row['collected_lp'],row['lost_c_s'], row['lost_p_s'],  \n",
    "#                                                 str(trow[0]), row['trade_count'], df_qt), axis=1).T.values\n",
    "        \n",
    "        df_trades = strat.make_minute_decision(df_trades, df_qt, str_quote_time)\n",
    "\n",
    "        stop_time_timer = perf_counter()\n",
    "        # print(df_trades.head())\n",
    "\n",
    "        if min_i % 30 == 0:\n",
    "            print(f\"Processed {curr_time} | Elapsed : {stop_time_timer - start_time_timer}\")\n",
    "            start_time_timer = stop_time_timer\n",
    "\n",
    "    df_trades['commission'] = df_trades['trade_count']*commission\n",
    "    df_trades['lost'] = df_trades['lost_c_s'] + df_trades['lost_p_s']\n",
    "    df_trades['net'] = df_trades['collected'] - df_trades['lost'] - df_trades['commission']\n",
    "    df_trades['portfolio_value'] = 0.0\n",
    "    #df_trades['daily_return'] = 0.0\n",
    "    #df_trades['margin_utilization']=0.0\n",
    "    initial_portfolio_value = 10000\n",
    "    df_trades['net_cumsum']=df_trades['net'].cumsum()\n",
    "\n",
    "    df_trades['portfolio_value'] = initial_portfolio_value + df_trades['net_cumsum']\n",
    "    df_trades['transaction_return'] = df_trades['net'] / df_trades['portfolio_value'].shift(1)\n",
    "    df_trades['transaction_return'].iloc[0] = df_trades['net'].iloc[0] / initial_portfolio_value\n",
    "\n",
    "    df_trades['cum_return'] = (df_trades['portfolio_value'] - initial_portfolio_value) / initial_portfolio_value\n",
    "\n",
    "    df_ty = df_ty_i.copy()\n",
    "    df_ty['daily_risk_free_return'] = (df_ty_i['Adj Close'] / 252) / 100\n",
    "    df_ty.drop(['Open', 'High', 'Low', 'Close', 'Adj Close', 'Volume'], axis=1, inplace=True)\n",
    "\n",
    "    df_trades = pd.merge(df_trades, df_ty, left_on='trade_date', right_on='Date')\n",
    "    df_trades.drop(['Date'],axis=1,inplace=True)\n",
    "\n",
    "    # if you want to scale the chart, you should do it here\n",
    "    factor = 1.0\n",
    "    df_trade_plot = df_trades.copy()\n",
    "    df_trade_plot['net'] = df_trade_plot['net']*factor\n",
    "    df_trade_plot.set_index('expiration', inplace=True)\n",
    "    df_trade_plot = df_trade_plot['net'].cumsum()\n",
    "\n",
    "    fig = plt.figure()\n",
    "    ax = fig.add_subplot(1, 1, 1)\n",
    "    secax = ax.secondary_yaxis('right', functions=(net2pct, pct2net))\n",
    "    secax.set_ylabel('% return')\n",
    "    df_trade_plot.plot(ax=ax)\n",
    "    plt.title(f\"{strat}\")\n",
    "    plt.grid()\n",
    "    plt.savefig(f\"{strat}.png\")\n",
    "\n",
    "    df_trades_transaction_return = df_trades.copy()\n",
    "    df_trades_transaction_return['transaction_return'] *= 100 \n",
    "    df_trades_transaction_return.set_index('expiration', inplace=True)\n",
    "    fig = plt.figure()\n",
    "    ax = df_trades_transaction_return['transaction_return'].plot(linestyle='None', marker=\"o\")\n",
    "    ax.set_ylabel('Transaction Return %')\n",
    "    plt.title(f\"{strat}\")\n",
    "    plt.grid()\n",
    "    plt.savefig(f\"daily_ret_{strat}.png\")\n",
    "\n",
    "    trade_count = df_trades.shape[0]\n",
    "    win_count = df_trades[df_trades['net']>0].shape[0]\n",
    "    loss_count = df_trades[df_trades['net']<0].shape[0]\n",
    "    std_trans_return = df_trades['transaction_return'].std()\n",
    "    std_trans_return_less_rf = (df_trades['transaction_return'] - df_trades['daily_risk_free_return']).std()\n",
    "    print(\"*****  BACKTEST RESULTS  ****\")\n",
    "    print(\n",
    "        f\"\\n{'Cumulative return:':<35}{round(df_trades['cum_return'].iloc[-1]*100,3):>10} %\",\n",
    "        f\"\\n{'Max Drawdown:':<35}{round(df_trades['cum_return'].min()*100,3):>10} %\",\n",
    "        f\"\\n{'Trading Days:':<35}{trade_count:>10}\",\n",
    "        f\"\\n{'Wins:':<35}{win_count:>10}\",\n",
    "        f\"\\n{'Losses:':<35}{loss_count:>10}\",\n",
    "        f\"\\n{'Breakeven:':<35}{df_trades[df_trades['net']==0.0].shape[0]:>10}\",\n",
    "        f\"\\n{'Win/Loss Ratio:':<35}{round(win_count/trade_count*100,3):>10} %\",\n",
    "        f\"\\n{'Mean Win:':<35}{round(df_trades[df_trades['net']>0]['net'].mean(),3):>10} $\",\n",
    "        f\"\\n{'Mean Win Trans Return:':<35}{round(df_trades[df_trades['transaction_return']>0]['transaction_return'].mean()*100,3):>10} %\",\n",
    "        f\"\\n{'Mean Loss:':<35}{round(df_trades[df_trades['net']<0]['net'].mean(),3):>10} $\",\n",
    "        f\"\\n{'Mean Loss Trans Return:':<35}{round(df_trades[df_trades['transaction_return']<0]['transaction_return'].mean()*100,3):>10} %\",\n",
    "        f\"\\n{'Mean Net Trans:':<35}{round(df_trades['net'].mean(),3):>10} $\",\n",
    "        f\"\\n{'Mean Trans Return:':<35}{round(df_trades['transaction_return'].mean()*100,3):>10} %\",\n",
    "        f\"\\n{'Std Dev of Net Trans:':<35}{round(df_trades['net'].std(),3):>10}\",\n",
    "        f\"\\n{'Std Dev of Trans Return:':<35}{round(df_trades['transaction_return'].std(),3):>10}\",\n",
    "        f\"\\n{'Max Loss:':<35}{round(df_trades['net'].min(),3):>10} $\",\n",
    "        f\"\\n{'Max Win:':<35}{round(df_trades['net'].max(),3):>10} $\",\n",
    "        f\"\\n{'Sharpe Ratio static STD:':<35}{round(np.sqrt(252)*(df_trades['transaction_return'].mean()-df_trades['daily_risk_free_return'].mean())/std_trans_return,3):>10}\",\n",
    "        f\"\\n{'Sharpe Ratio with RF STD:':<35}{round(np.sqrt(252)*(df_trades['transaction_return'].mean()-df_trades['daily_risk_free_return'].mean())/std_trans_return_less_rf,3):>10}\",\n",
    "        f\"\\n{'Risk Adj Cumulative Return:':<35}{round(df_trades['cum_return'].iloc[-1]*100/std_trans_return,3):>10}\",\n",
    "    \n",
    "    )\n",
    "    risk_adj_cum_return = round(df_trades['cum_return'].iloc[-1]*100/std_trans_return,3)\n",
    "    return risk_adj_cum_return"
   ]
  },
  {
   "cell_type": "code",
   "execution_count": 5,
   "id": "c282e326",
   "metadata": {
    "execution": {
     "iopub.execute_input": "2022-12-26T23:36:29.681104Z",
     "iopub.status.busy": "2022-12-26T23:36:29.680720Z",
     "iopub.status.idle": "2022-12-26T23:36:29.687185Z",
     "shell.execute_reply": "2022-12-26T23:36:29.686370Z"
    },
    "papermill": {
     "duration": 0.012821,
     "end_time": "2022-12-26T23:36:29.689237",
     "exception": false,
     "start_time": "2022-12-26T23:36:29.676416",
     "status": "completed"
    },
    "tags": []
   },
   "outputs": [],
   "source": [
    "def objective(trial, df):\n",
    "    delta_sp_trial = trial.suggest_float(\"delta_sp\", 0.002, 0.55)\n",
    "    delta_lp_trial = trial.suggest_float(\"delta_p_offset\", 0.001, 0.5)\n",
    "    delta_sc_trial = trial.suggest_float(\"delta_sc\", 0.002, 0.55)\n",
    "    delta_lc_trial = trial.suggest_float(\"delta_c_offset\", 0.001, 0.50)\n",
    "   \n",
    "    params = convert_delta_to_dictionary(delta_sp_trial, delta_lp_trial, delta_sc_trial, delta_lc_trial)\n",
    "    \n",
    "    strategy = ss.OptimalIronCondorStrategy(df['expiration'].unique(), params)\n",
    "    score = run_backtest(strategy, df)\n",
    "    return score"
   ]
  },
  {
   "cell_type": "code",
   "execution_count": 6,
   "id": "068c1fda",
   "metadata": {
    "execution": {
     "iopub.execute_input": "2022-12-26T23:36:29.697229Z",
     "iopub.status.busy": "2022-12-26T23:36:29.696890Z",
     "iopub.status.idle": "2022-12-26T23:45:15.556073Z",
     "shell.execute_reply": "2022-12-26T23:45:15.554880Z"
    },
    "papermill": {
     "duration": 525.866389,
     "end_time": "2022-12-26T23:45:15.558776",
     "exception": false,
     "start_time": "2022-12-26T23:36:29.692387",
     "status": "completed"
    },
    "tags": []
   },
   "outputs": [
    {
     "name": "stderr",
     "output_type": "stream",
     "text": [
      "\u001b[32m[I 2022-12-26 23:36:29,699]\u001b[0m A new study created in memory with name: no-name-c6e6c0de-e3df-4cd7-9229-95b03e5b1ca3\u001b[0m\n"
     ]
    },
    {
     "name": "stdout",
     "output_type": "stream",
     "text": [
      "Elapsed time to find initial trades: 16.159365183999967\n",
      "Processed 10:00:00 | Elapsed : 25.864713737999978\n",
      "Processed 10:30:00 | Elapsed : 40.506909801999996\n",
      "Processed 11:00:00 | Elapsed : 39.95584647800001\n",
      "Processed 11:30:00 | Elapsed : 40.700946551000015\n",
      "Processed 12:00:00 | Elapsed : 40.020910827999955\n",
      "Processed 12:30:00 | Elapsed : 40.29462064100005\n",
      "Processed 13:00:00 | Elapsed : 40.498476377999964\n",
      "Processed 13:30:00 | Elapsed : 40.713865802999976\n",
      "Processed 14:00:00 | Elapsed : 40.16652836499998\n",
      "Processed 14:30:00 | Elapsed : 40.126607236000154\n",
      "Processed 15:00:00 | Elapsed : 40.15248120399997\n",
      "Processed 15:30:00 | Elapsed : 39.762476506999974\n",
      "Processed 16:00:00 | Elapsed : 39.227481678000004\n"
     ]
    },
    {
     "name": "stderr",
     "output_type": "stream",
     "text": [
      "/opt/conda/lib/python3.7/site-packages/pandas/core/indexing.py:1732: SettingWithCopyWarning: \n",
      "A value is trying to be set on a copy of a slice from a DataFrame\n",
      "\n",
      "See the caveats in the documentation: https://pandas.pydata.org/pandas-docs/stable/user_guide/indexing.html#returning-a-view-versus-a-copy\n",
      "  self._setitem_single_block(indexer, value, name)\n",
      "\u001b[32m[I 2022-12-26 23:45:15,105]\u001b[0m Trial 0 finished with value: 2179.308 and parameters: {'delta_sp': 0.4809657748926922, 'delta_p_offset': 0.06880082200055594, 'delta_sc': 0.47275432404496215, 'delta_c_offset': 0.14041447316206745}. Best is trial 0 with value: 2179.308.\u001b[0m\n"
     ]
    },
    {
     "name": "stdout",
     "output_type": "stream",
     "text": [
      "*****  BACKTEST RESULTS  ****\n",
      "\n",
      "Cumulative return:                       73.6 % \n",
      "Max Drawdown:                          -23.39 % \n",
      "Trading Days:                             428 \n",
      "Wins:                                     167 \n",
      "Losses:                                   129 \n",
      "Breakeven:                                132 \n",
      "Win/Loss Ratio:                        39.019 % \n",
      "Mean Win:                             376.659 $ \n",
      "Mean Win Trans Return:                  2.648 % \n",
      "Mean Loss:                           -430.558 $ \n",
      "Mean Loss Trans Return:                -2.824 % \n",
      "Mean Net Trans:                        17.196 $ \n",
      "Mean Trans Return:                      0.182 % \n",
      "Std Dev of Net Trans:                  423.49 \n",
      "Std Dev of Trans Return:                0.034 \n",
      "Max Loss:                             -1296.0 $ \n",
      "Max Win:                               2959.0 $ \n",
      "Sharpe Ratio static STD:                 0.85 \n",
      "Sharpe Ratio with RF STD:                0.85 \n",
      "Risk Adj Cumulative Return:          2179.308\n",
      "Best Score:  2179.308\n",
      "Best Params: \n",
      "  delta_sp: 0.4809657748926922\n",
      "  delta_p_offset: 0.06880082200055594\n",
      "  delta_sc: 0.47275432404496215\n",
      "  delta_c_offset: 0.14041447316206745\n"
     ]
    },
    {
     "data": {
      "image/png": "[encoded data removed]",
      "text/plain": [
       "<Figure size 432x288 with 1 Axes>"
      ]
     },
     "metadata": {
      "needs_background": "light"
     },
     "output_type": "display_data"
    },
    {
     "data": {
      "image/png": "[encoded data removed]",
      "text/plain": [
       "<Figure size 432x288 with 1 Axes>"
      ]
     },
     "metadata": {
      "needs_background": "light"
     },
     "output_type": "display_data"
    }
   ],
   "source": [
    "study = optuna.create_study(direction = \"maximize\")\n",
    "study.optimize(lambda trial: objective(trial, df), n_trials = 1)\n",
    "trial = study.best_trial\n",
    "print(\"Best Score: \", trial.value)\n",
    "print(\"Best Params: \")\n",
    "for key, value in trial.params.items():\n",
    "    print(\"  {}: {}\".format(key, value))"
   ]
  },
  {
   "cell_type": "code",
   "execution_count": 7,
   "id": "6a35a14b",
   "metadata": {
    "execution": {
     "iopub.execute_input": "2022-12-26T23:45:15.571112Z",
     "iopub.status.busy": "2022-12-26T23:45:15.570716Z",
     "iopub.status.idle": "2022-12-26T23:45:15.578612Z",
     "shell.execute_reply": "2022-12-26T23:45:15.577374Z"
    },
    "papermill": {
     "duration": 0.016969,
     "end_time": "2022-12-26T23:45:15.581119",
     "exception": false,
     "start_time": "2022-12-26T23:45:15.564150",
     "status": "completed"
    },
    "tags": []
   },
   "outputs": [
    {
     "data": {
      "text/plain": [
       "['ABC',\n",
       " 'OptimalIronCondorStrategy',\n",
       " 'SpxThetaStrategy',\n",
       " 'StaticStrategyTest',\n",
       " 'Strategy',\n",
       " '__builtins__',\n",
       " '__cached__',\n",
       " '__doc__',\n",
       " '__file__',\n",
       " '__loader__',\n",
       " '__name__',\n",
       " '__package__',\n",
       " '__spec__',\n",
       " 'abstractmethod',\n",
       " 'np',\n",
       " 'pd']"
      ]
     },
     "execution_count": 7,
     "metadata": {},
     "output_type": "execute_result"
    }
   ],
   "source": [
    "dir(ss)"
   ]
  },
  {
   "cell_type": "code",
   "execution_count": null,
   "id": "fa932107",
   "metadata": {
    "papermill": {
     "duration": 0.004912,
     "end_time": "2022-12-26T23:45:15.591298",
     "exception": false,
     "start_time": "2022-12-26T23:45:15.586386",
     "status": "completed"
    },
    "tags": []
   },
   "outputs": [],
   "source": []
  }
 ],
 "metadata": {
  "kernelspec": {
   "display_name": "Python 3",
   "language": "python",
   "name": "python3"
  },
  "language_info": {
   "codemirror_mode": {
    "name": "ipython",
    "version": 3
   },
   "file_extension": ".py",
   "mimetype": "text/x-python",
   "name": "python",
   "nbconvert_exporter": "python",
   "pygments_lexer": "ipython3",
   "version": "3.7.12"
  },
  "papermill": {
   "default_parameters": {},
   "duration": 622.533865,
   "end_time": "2022-12-26T23:45:16.822136",
   "environment_variables": {},
   "exception": null,
   "input_path": "__notebook__.ipynb",
   "output_path": "__notebook__.ipynb",
   "parameters": {},
   "start_time": "2022-12-26T23:34:54.288271",
   "version": "2.3.4"
  }
 },
 "nbformat": 4,
 "nbformat_minor": 5
}
